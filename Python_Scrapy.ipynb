{
 "cells": [
  {
   "cell_type": "markdown",
   "id": "22849a9c-e921-4da5-955c-085dc746bca4",
   "metadata": {},
   "source": [
    "## Intro to Web Scraping\n",
    "\n",
    "In this post, we will find out What movies or TV shows share actors with our favorite movie or show by using Scrapy. The website I will scrape in this post is IMBD,  and explain the steps on how to scrape data from the web.\n",
    "\n",
    "**steps:**\n",
    "1) Locate the Starting IMDB Page\n",
    "    -  Pick a favorite movie or TV show, and locate its IMDB page. For example, my favorite film is 'Spider-Man: No Way Home'. Its IMDB page is at: https://www.imdb.com/title/tt10872600/\n",
    "2) Dry-Run Navigation:\n",
    "    - First, click on the All Cast & Crew link. This will take us to a page with URL of the form '<original_url>fullcredits/'\n",
    "    - Next, scroll until you see the Series Cast section. Click on the portrait of one of the actors. This will take us to a page with a different-looking URL. For example, the URL for Tom Holland is: https://www.imdb.com/name/nm4043618/?ref_=ttfc_fc_cl_t1\n",
    "    - Finally, scroll down until we see the actor’s Filmography section. Note the titles of a few movies and TV shows in this section.\n",
    "3) Initialize The Project\n",
    "    - Our scraper is going to replicate step 2). Starting with the 'Spider-Man: No Way Home', it’s going to look at all the actors in that movie, and then log all the other movies or TV shows that they worked on.\n",
    "4) Tweak Settings\n",
    "    - add *CLOSESPIDER_PAGECOUNT = 20* in the settings.py file to prevents our scraper from downloading too much data while we’re still testing things out. We’ll remove this line later."
   ]
  },
  {
   "cell_type": "markdown",
   "id": "7ece637e-5750-4ee5-89e2-356ddbbcd957",
   "metadata": {},
   "source": [
    "## Start with Scrapy\n",
    "\n",
    "Before we starting the project, you may ask what is Scrapy. Briefy talk, Scrapy is a web-crawling framework written in Python. In order to use it, we need install it into our python environment (link for installation guide: https://docs.scrapy.org/en/latest/intro/install.html#intro-install). Once installed, we can start our first Scrapy project. <br>\n",
    "- Open the terminal, and enter a directory where we’d like to store your code and run: <br> \n",
    "  *scrapy startproject IMBD_scraper* <br>\n",
    "  This will create a IMBD_scraper folder with a lot of files inside, we dont need modfile most of them.\n",
    "- Spiders are classes that you define and that Scrapy uses to scrape information from a website (or a group of websites). <br>\n",
    "  They must subclass Spider and define the initial requests to make, optionally how to follow links in the pages, and how to parse the downloaded page content to extract data.\n",
    "- I will name the code file as **imbd_spider.py** and save it under the **IMBD_scraper/spiders** directory in the project:<br>\n",
    "  This is the code for **imbd_spider.py**\n",
    "<br>\n",
    "<br>"
   ]
  },
  {
   "cell_type": "markdown",
   "id": "357e9c6d-bcbe-4131-85ea-018432e1ff0f",
   "metadata": {},
   "source": [
    "### overall of the imbd_spider.py\n",
    "The details of the member functions explanation are followed by this code."
   ]
  },
  {
   "cell_type": "code",
   "execution_count": 1,
   "id": "bdd1dd2a-d78a-44c7-90a8-0486c2d824d2",
   "metadata": {},
   "outputs": [],
   "source": [
    "import scrapy\n",
    "\n",
    "class ImdbSpider(scrapy.Spider):\n",
    "    name = 'imdb_spider'\n",
    "    \n",
    "    start_urls = ['https://www.imdb.com/title/tt10872600/'] # start url\n",
    "\n",
    "    def parse(self, response):\n",
    "        next_page = response.css(\"a[href*='fullcredits']\").attrib['href']  # get element that contain url\n",
    "\n",
    "        if next_page: # identical to if next_page is not None\n",
    "            next_page = response.urljoin(next_page) # extract the url\n",
    "            yield scrapy.Request(next_page, callback = self.parse_full_credits) # call parse_full_credits\n",
    "\n",
    "\n",
    "    def parse_full_credits(self, response):\n",
    "        cast_link = [a.attrib[\"href\"] for a in response.css(\"td.primary_photo a\")]\n",
    "\n",
    "        if cast_link:\n",
    "            for c in cast_link:\n",
    "                next_page = response.urljoin(c)\n",
    "                yield scrapy.Request(next_page, callback = self.parse_actor_page) # call parse_actor_page\n",
    "\n",
    "\n",
    "    def parse_actor_page(self, response):\n",
    "        actor_name = response.css(\".header\").css(\"span.itemprop::text\").get()\n",
    "\n",
    "        for moive in response.css(\"div.filmo-category-section:not([style*='display:none;']) b\"):\n",
    "            yield {\n",
    "                \"actor\" : actor_name, \n",
    "                \"movie_or_TV_name\" : moive.css(\"a::text\").get()\n",
    "            }"
   ]
  },
  {
   "cell_type": "markdown",
   "id": "d96098b7-73f4-42af-85df-f68bdd0988d6",
   "metadata": {},
   "source": [
    "As we can see, there is Spider subclasses <u>scrapy.Spider</u> and defines some attributes and methods:\n",
    "- **name**: identifies the Spider. It must be unique within a project, that is, you can’t set the same name for different Spiders.\n",
    "- **start_urls**: must return an iterable of Requests (you can return a list of requests or write a generator function) which the Spider will begin to crawl from. Here I used https://www.imdb.com/title/tt10872600/ (Spider-Man: No Way Home).\n",
    "- **parse()**, **parse_full_credits()**, and **parse_actor_page()**: methods that will be called to handle the response downloaded for each of the requests made. Here I have 3 prase() methods, I will explain those methods in details later.<br>\n",
    "  The parse() method usually parses the response, extracting the scraped data as dicts and also finding new URLs to follow and creating new requests (Request) from them.\n",
    "- **yield**: inbuilt way of saving and storing data"
   ]
  },
  {
   "cell_type": "markdown",
   "id": "7ac7bea5-5cb9-4a92-a0f3-6990abf7d06c",
   "metadata": {},
   "source": [
    "### parse(self, response)"
   ]
  },
  {
   "cell_type": "code",
   "execution_count": 2,
   "id": "4fc113e6-a525-455b-99f8-bd285ff4200c",
   "metadata": {},
   "outputs": [],
   "source": [
    "def parse(self, response):\n",
    "    next_page = response.css(\"a[href*='fullcredits']\").attrib['href']  # get element that contain url\n",
    "\n",
    "    if next_page: # identical to if next_page is not None\n",
    "        next_page = response.urljoin(next_page) # extract the url\n",
    "        yield scrapy.Request(next_page, callback = self.parse_full_credits) # call parse_full_credits"
   ]
  },
  {
   "cell_type": "markdown",
   "id": "0e7c6835-5136-4d7f-91d9-da42e06b4a27",
   "metadata": {},
   "source": [
    "the start_url is link to this page, and we want jump to **Cast & crew** by defining the parse() method:<br>\n",
    "<figure>\n",
    "    <img src=\"hw2_pic/hw2_p1.png\" alt=\"image missing!\" style=\"width: 600px;\"/>\n",
    "    <figcaption>Start_urls: https://www.imdb.com/title/tt10872600/</figcaption>\n",
    "</figure>\n",
    "\n",
    "The parse(self, response) method will do the same step automatically when we call it. So I want this method to crawl the URL of the cast & crew page. The IMBD websites are written in HTML, we could use  CSS selectors to specify which content we want to crawl from the web. \n",
    "This is copy of the HTML that contain URL of the cast & crew page in the website: "
   ]
  },
  {
   "cell_type": "raw",
   "id": "4a65646f-9d27-4881-88a1-ae0dfaf029a9",
   "metadata": {},
   "source": [
    "<a href=\"fullcredits/?ref_=tt_ql_cl\" class=\"ipc-link ipc-link--baseAlt ipc-link--inherit-color\">Cast &amp; crew</a>`"
   ]
  },
  {
   "cell_type": "markdown",
   "id": "de2d974a-77f5-47d1-8d22-edbc4550dc8b",
   "metadata": {},
   "source": [
    "- **a[href*='fullcredits']** selector will select every \\<a\\> element whose href attribute value contains the substring \"fullcredits\",\n",
    "- by calling **response.css(\"a[href*='fullcredits']\").attrib['href']**, we got **'fullcredits/?ref_=tt_ql_cl'** returned in this case, but it is just a hyperlink,\n",
    "- scrapy has a build in method to accesss the hyperlink: **response.urljoin(h)** where h is the hyperlink, **response.urljoin('fullcredits/?ref_=tt_ql_cl')** returns **'https://www.imdb.com/title/tt10872600/fullcredits/?ref_=tt_ql_cl'** in this case,\n",
    "- then the last step of parse(self, response) is to access this link by calling **parse_full_credits()** method."
   ]
  },
  {
   "cell_type": "markdown",
   "id": "d930f84f-fe83-4c15-b63b-2f0e8a74974a",
   "metadata": {},
   "source": [
    "### parse_full_credits(self, response)"
   ]
  },
  {
   "cell_type": "code",
   "execution_count": 3,
   "id": "9ed7ef74-78de-4fc8-8668-258cc789a2e3",
   "metadata": {},
   "outputs": [],
   "source": [
    "def parse_full_credits(self, response):\n",
    "    cast_link = [a.attrib[\"href\"] for a in response.css(\"td.primary_photo a\")]\n",
    "\n",
    "    if cast_link:\n",
    "        for c in cast_link:\n",
    "            next_page = response.urljoin(c)\n",
    "            yield scrapy.Request(next_page, callback = self.parse_actor_page) # call parse_actor_page"
   ]
  },
  {
   "cell_type": "markdown",
   "id": "e1152a0c-ef54-4b3b-89e4-cf9111597a3b",
   "metadata": {},
   "source": [
    "click the **Cast & crew**, it navigate to the Cast & Crew page: <br>\n",
    "<figure>\n",
    "    <img src=\"hw2_pic/hw2_p2.png\" alt=\"image missing!\" style=\"width: 600px;\"/>\n",
    "    <figcaption>cast & crew page</figcaption>\n",
    "</figure>\n",
    "\n",
    "On this page, we can find a completed cast(in credits order) listed. We want to define **parse_full_credits(self, response)** to access the all actors' page. "
   ]
  },
  {
   "cell_type": "raw",
   "id": "3bbdc522-6158-4f39-8855-02f01f1b0588",
   "metadata": {},
   "source": [
    "From the html, we find <td class=\"primary_photo\">...<\\td> defines a standard data cell that contain the primary photos of each actors in the HTML table"
   ]
  },
  {
   "cell_type": "markdown",
   "id": "2e16347b-5b76-42ed-9175-4273f1c98281",
   "metadata": {},
   "source": [
    "Same idea as the **prase(self, response)** method, but we need use a for loop to access each actor's personal website. \n",
    "- response.css(\"td.primary_photo a\") select all \\<td\\> tag with class=\"primary_photo\", then select select all \\<a\\> tag within.\n",
    "- for a in response.css(\"td.primary_photo a\") access the elements iteratively\n",
    "- a.attrib[\"href\"] returns the https link\n",
    "- for each link, we calling **parse_actor_page(self, response)** to access the acctor's personal web\n",
    "- in this example, the first iteration will access Tom Holland's IDMB personal page, the second iteration will access Zendaya's page, and so on."
   ]
  },
  {
   "cell_type": "markdown",
   "id": "625c9718-80c6-4300-9121-b010ee71ad1e",
   "metadata": {},
   "source": [
    "### parse_actor_page(self, response)"
   ]
  },
  {
   "cell_type": "markdown",
   "id": "0f6abbc0-f99a-48e9-a502-5e4882d00520",
   "metadata": {},
   "source": [
    "Finally, we can start to introduce the parse_actor_page(self, response) method"
   ]
  },
  {
   "cell_type": "code",
   "execution_count": 4,
   "id": "1fb8c9ea-a51b-422c-be20-26db30014a81",
   "metadata": {},
   "outputs": [],
   "source": [
    "def parse_actor_page(self, response):\n",
    "        actor_name = response.css(\".header\").css(\"span.itemprop::text\").get()\n",
    "\n",
    "        for moive in response.css(\"div.filmo-category-section:not([style*='display:none;']) b\"):\n",
    "            yield {\n",
    "                \"actor\" : actor_name, \n",
    "                \"movie_or_TV_name\" : moive.css(\"a::text\").get()\n",
    "            }"
   ]
  },
  {
   "cell_type": "markdown",
   "id": "5624532e-32ca-42b7-8844-13f8e87c7280",
   "metadata": {},
   "source": [
    "For example, click the **Tom Holland**, it navigate to the this page. We scroll down to the filmography section <br>\n",
    "<figure>\n",
    "    <img src=\"hw2_pic/hw2_p3.png\" alt=\"image missing!\" style=\"width: 600px;\"/>\n",
    "    <figcaption>filmography</figcaption>\n",
    "</figure>\n",
    "\n",
    "On this page, we can see the name of each movie or TV show that Tom Holland participate in."
   ]
  },
  {
   "cell_type": "markdown",
   "id": "46148800-8f8e-411c-a2ec-c0210dd242f9",
   "metadata": {},
   "source": [
    "Inside **parse_actor_page(self, response)** method:\n",
    "- response.css(\".header\").css(\"span.itemprop::text\").get() returns plain text: Tom Holland\n",
    "- response.css(\"div.filmo-category-section:not([style*='display:none;']) b\") access all the movie or TV shows\n",
    "- In for loop we use yield to storing data: <u>actor's name</u> and <u>movie or TV shows</u> \n",
    "\n",
    "<br>"
   ]
  },
  {
   "cell_type": "markdown",
   "id": "d2ee5d06-0c7d-4c4b-8aff-5447f094da42",
   "metadata": {},
   "source": [
    "## Run Our Spider\n",
    "\n",
    "Now, we have our imbd_spider.py setup. To use it we just type **scrapy crawl imdb_spider -o results.csv** in the terminal. The **-o** tells the program to save the data into the file that user-specified. Here, we saved data into the results.csv file. Let's see what we have in the results.csv "
   ]
  },
  {
   "cell_type": "code",
   "execution_count": 5,
   "id": "a2102436-3083-4c82-8ca6-4c32bbf64114",
   "metadata": {},
   "outputs": [
    {
     "data": {
      "text/html": [
       "<div>\n",
       "<style scoped>\n",
       "    .dataframe tbody tr th:only-of-type {\n",
       "        vertical-align: middle;\n",
       "    }\n",
       "\n",
       "    .dataframe tbody tr th {\n",
       "        vertical-align: top;\n",
       "    }\n",
       "\n",
       "    .dataframe thead th {\n",
       "        text-align: right;\n",
       "    }\n",
       "</style>\n",
       "<table border=\"1\" class=\"dataframe\">\n",
       "  <thead>\n",
       "    <tr style=\"text-align: right;\">\n",
       "      <th></th>\n",
       "      <th>actor</th>\n",
       "      <th>movie_or_TV_name</th>\n",
       "    </tr>\n",
       "  </thead>\n",
       "  <tbody>\n",
       "    <tr>\n",
       "      <th>0</th>\n",
       "      <td>Zany Dunlap</td>\n",
       "      <td>Spider-Man: No Way Home</td>\n",
       "    </tr>\n",
       "    <tr>\n",
       "      <th>1</th>\n",
       "      <td>Andrew Dunlap</td>\n",
       "      <td>Spider-Man: No Way Home</td>\n",
       "    </tr>\n",
       "    <tr>\n",
       "      <th>2</th>\n",
       "      <td>Kathleen Cardoso</td>\n",
       "      <td>Spider-Man: No Way Home</td>\n",
       "    </tr>\n",
       "    <tr>\n",
       "      <th>3</th>\n",
       "      <td>Kathleen Cardoso</td>\n",
       "      <td>Out with the Old</td>\n",
       "    </tr>\n",
       "    <tr>\n",
       "      <th>4</th>\n",
       "      <td>Kathleen Cardoso</td>\n",
       "      <td>Vengeance: Killer Lovers</td>\n",
       "    </tr>\n",
       "    <tr>\n",
       "      <th>...</th>\n",
       "      <td>...</td>\n",
       "      <td>...</td>\n",
       "    </tr>\n",
       "    <tr>\n",
       "      <th>3016</th>\n",
       "      <td>Alfred Molina</td>\n",
       "      <td>Indiana Jones and the Raiders of the Lost Ark</td>\n",
       "    </tr>\n",
       "    <tr>\n",
       "      <th>3017</th>\n",
       "      <td>Alfred Molina</td>\n",
       "      <td>Bognor</td>\n",
       "    </tr>\n",
       "    <tr>\n",
       "      <th>3018</th>\n",
       "      <td>Alfred Molina</td>\n",
       "      <td>A Nightingale Sang in Berkeley Square</td>\n",
       "    </tr>\n",
       "    <tr>\n",
       "      <th>3019</th>\n",
       "      <td>Alfred Molina</td>\n",
       "      <td>The Song of the Shirt</td>\n",
       "    </tr>\n",
       "    <tr>\n",
       "      <th>3020</th>\n",
       "      <td>Alfred Molina</td>\n",
       "      <td>The Losers</td>\n",
       "    </tr>\n",
       "  </tbody>\n",
       "</table>\n",
       "<p>3021 rows × 2 columns</p>\n",
       "</div>"
      ],
      "text/plain": [
       "                 actor                               movie_or_TV_name\n",
       "0          Zany Dunlap                        Spider-Man: No Way Home\n",
       "1        Andrew Dunlap                        Spider-Man: No Way Home\n",
       "2     Kathleen Cardoso                        Spider-Man: No Way Home\n",
       "3     Kathleen Cardoso                               Out with the Old\n",
       "4     Kathleen Cardoso                       Vengeance: Killer Lovers\n",
       "...                ...                                            ...\n",
       "3016     Alfred Molina  Indiana Jones and the Raiders of the Lost Ark\n",
       "3017     Alfred Molina                                         Bognor\n",
       "3018     Alfred Molina          A Nightingale Sang in Berkeley Square\n",
       "3019     Alfred Molina                          The Song of the Shirt\n",
       "3020     Alfred Molina                                     The Losers\n",
       "\n",
       "[3021 rows x 2 columns]"
      ]
     },
     "execution_count": 5,
     "metadata": {},
     "output_type": "execute_result"
    }
   ],
   "source": [
    "import pandas as pd\n",
    "\n",
    "df = pd.read_csv(\"IMDB_scraper/results.csv\")\n",
    "df"
   ]
  },
  {
   "cell_type": "code",
   "execution_count": 6,
   "id": "dc59bd24-f508-414f-8487-5346a1295c2b",
   "metadata": {},
   "outputs": [],
   "source": [
    "df = df.groupby(\"movie_or_TV_name\").count()\n",
    "df = df.reset_index()\n",
    "df = df.rename(columns = {\"actor\": \"number of shared actors\"})\n",
    "df = df.sort_values(by=\"number of shared actors\", ignore_index=True, ascending=False)"
   ]
  },
  {
   "cell_type": "code",
   "execution_count": 7,
   "id": "ec6a4c01-be84-4af5-8489-4e8cfee05c8c",
   "metadata": {},
   "outputs": [
    {
     "data": {
      "text/html": [
       "<div>\n",
       "<style scoped>\n",
       "    .dataframe tbody tr th:only-of-type {\n",
       "        vertical-align: middle;\n",
       "    }\n",
       "\n",
       "    .dataframe tbody tr th {\n",
       "        vertical-align: top;\n",
       "    }\n",
       "\n",
       "    .dataframe thead th {\n",
       "        text-align: right;\n",
       "    }\n",
       "</style>\n",
       "<table border=\"1\" class=\"dataframe\">\n",
       "  <thead>\n",
       "    <tr style=\"text-align: right;\">\n",
       "      <th></th>\n",
       "      <th>movie_or_TV_name</th>\n",
       "      <th>number of shared actors</th>\n",
       "    </tr>\n",
       "  </thead>\n",
       "  <tbody>\n",
       "    <tr>\n",
       "      <th>0</th>\n",
       "      <td>Spider-Man: No Way Home</td>\n",
       "      <td>87</td>\n",
       "    </tr>\n",
       "    <tr>\n",
       "      <th>1</th>\n",
       "      <td>Spider-Man: Far from Home</td>\n",
       "      <td>11</td>\n",
       "    </tr>\n",
       "    <tr>\n",
       "      <th>2</th>\n",
       "      <td>Spider-Man: Homecoming</td>\n",
       "      <td>10</td>\n",
       "    </tr>\n",
       "    <tr>\n",
       "      <th>3</th>\n",
       "      <td>Doom Patrol</td>\n",
       "      <td>9</td>\n",
       "    </tr>\n",
       "    <tr>\n",
       "      <th>4</th>\n",
       "      <td>Avengers: Endgame</td>\n",
       "      <td>9</td>\n",
       "    </tr>\n",
       "    <tr>\n",
       "      <th>5</th>\n",
       "      <td>Black Lightning</td>\n",
       "      <td>8</td>\n",
       "    </tr>\n",
       "    <tr>\n",
       "      <th>6</th>\n",
       "      <td>The Tomorrow War</td>\n",
       "      <td>8</td>\n",
       "    </tr>\n",
       "    <tr>\n",
       "      <th>7</th>\n",
       "      <td>Avengers: Infinity War</td>\n",
       "      <td>8</td>\n",
       "    </tr>\n",
       "    <tr>\n",
       "      <th>8</th>\n",
       "      <td>Richard Jewell</td>\n",
       "      <td>8</td>\n",
       "    </tr>\n",
       "    <tr>\n",
       "      <th>9</th>\n",
       "      <td>Spider-Man 3</td>\n",
       "      <td>7</td>\n",
       "    </tr>\n",
       "    <tr>\n",
       "      <th>10</th>\n",
       "      <td>The Daily Bugle</td>\n",
       "      <td>6</td>\n",
       "    </tr>\n",
       "    <tr>\n",
       "      <th>11</th>\n",
       "      <td>Watchmen</td>\n",
       "      <td>6</td>\n",
       "    </tr>\n",
       "    <tr>\n",
       "      <th>12</th>\n",
       "      <td>Heels</td>\n",
       "      <td>6</td>\n",
       "    </tr>\n",
       "    <tr>\n",
       "      <th>13</th>\n",
       "      <td>Spider-Man 2</td>\n",
       "      <td>6</td>\n",
       "    </tr>\n",
       "    <tr>\n",
       "      <th>14</th>\n",
       "      <td>The Simpsons</td>\n",
       "      <td>6</td>\n",
       "    </tr>\n",
       "    <tr>\n",
       "      <th>15</th>\n",
       "      <td>Homicide Hunter</td>\n",
       "      <td>5</td>\n",
       "    </tr>\n",
       "    <tr>\n",
       "      <th>16</th>\n",
       "      <td>Dynasty</td>\n",
       "      <td>5</td>\n",
       "    </tr>\n",
       "    <tr>\n",
       "      <th>17</th>\n",
       "      <td>Spider-Man</td>\n",
       "      <td>5</td>\n",
       "    </tr>\n",
       "    <tr>\n",
       "      <th>18</th>\n",
       "      <td>The Resident</td>\n",
       "      <td>5</td>\n",
       "    </tr>\n",
       "    <tr>\n",
       "      <th>19</th>\n",
       "      <td>Ozark</td>\n",
       "      <td>5</td>\n",
       "    </tr>\n",
       "  </tbody>\n",
       "</table>\n",
       "</div>"
      ],
      "text/plain": [
       "             movie_or_TV_name  number of shared actors\n",
       "0     Spider-Man: No Way Home                       87\n",
       "1   Spider-Man: Far from Home                       11\n",
       "2      Spider-Man: Homecoming                       10\n",
       "3                 Doom Patrol                        9\n",
       "4           Avengers: Endgame                        9\n",
       "5             Black Lightning                        8\n",
       "6            The Tomorrow War                        8\n",
       "7      Avengers: Infinity War                        8\n",
       "8              Richard Jewell                        8\n",
       "9                Spider-Man 3                        7\n",
       "10            The Daily Bugle                        6\n",
       "11                   Watchmen                        6\n",
       "12                      Heels                        6\n",
       "13               Spider-Man 2                        6\n",
       "14               The Simpsons                        6\n",
       "15            Homicide Hunter                        5\n",
       "16                    Dynasty                        5\n",
       "17                 Spider-Man                        5\n",
       "18               The Resident                        5\n",
       "19                      Ozark                        5"
      ]
     },
     "execution_count": 7,
     "metadata": {},
     "output_type": "execute_result"
    }
   ],
   "source": [
    "df[:20] # lists top 20 movies or tv shows by the number of shared actors"
   ]
  },
  {
   "cell_type": "code",
   "execution_count": 8,
   "id": "660ca6a5-c726-4a0d-9832-153d817aaa5a",
   "metadata": {},
   "outputs": [
    {
     "data": {
      "text/plain": [
       "[Text(0.5, 1.0, 'Bar Plot of Moives or TV-Shows Verse Shared Actors')]"
      ]
     },
     "execution_count": 8,
     "metadata": {},
     "output_type": "execute_result"
    },
    {
     "data": {
      "image/png": "[encoded data removed]",
      "text/plain": [
       "<Figure size 432x288 with 1 Axes>"
      ]
     },
     "metadata": {
      "needs_background": "light"
     },
     "output_type": "display_data"
    }
   ],
   "source": [
    "import seaborn as sns\n",
    "\n",
    "df = df[:20]\n",
    "ax = sns.barplot(x=\"movie_or_TV_name\", y=\"number of shared actors\", data=df)\n",
    "ax.tick_params(axis='x', rotation=90)\n",
    "for i in ax.containers:\n",
    "    ax.bar_label(i,)\n",
    "ax.set(xlabel='moives or TV-shows')\n",
    "ax.set(title='Bar Plot of Moives or TV-Shows Verse Shared Actors')"
   ]
  },
  {
   "cell_type": "markdown",
   "id": "c51631dd-413c-4171-b6c9-d9f1d3737ca4",
   "metadata": {},
   "source": [
    "As I expected, the moives Spider-Man 3, Spider-Man: Far From Home, and Avengers are on the top 20s. If you like the No Way Home, you may also like the other moives on the top 20s.\n",
    "<br>\n",
    "GitHub repository: "
   ]
  }
 ],
 "metadata": {
  "kernelspec": {
   "display_name": "Python [conda env:PIC16B] *",
   "language": "python",
   "name": "conda-env-PIC16B-py"
  },
  "language_info": {
   "codemirror_mode": {
    "name": "ipython",
    "version": 3
   },
   "file_extension": ".py",
   "mimetype": "text/x-python",
   "name": "python",
   "nbconvert_exporter": "python",
   "pygments_lexer": "ipython3",
   "version": "3.8.13"
  }
 },
 "nbformat": 4,
 "nbformat_minor": 5
}
